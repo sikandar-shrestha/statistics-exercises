{
 "cells": [
  {
   "cell_type": "code",
   "execution_count": 1,
   "id": "ca0f8215",
   "metadata": {},
   "outputs": [],
   "source": [
    "# pyplot for plotting\n",
    "import matplotlib.pyplot as plt\n",
    "# numpy for vectorized array operations\n",
    "import numpy as np\n",
    "# pandas for proper tabular manipulation\n",
    "import pandas as pd\n",
    "# scipy stats for our subversions\n",
    "from scipy import stats"
   ]
  },
  {
   "cell_type": "markdown",
   "id": "3e8dd52b",
   "metadata": {},
   "source": [
    "## Q1) How likely is it that you roll doubles when rolling two dice?\n",
    "\n"
   ]
  },
  {
   "cell_type": "code",
   "execution_count": 2,
   "id": "817ae536",
   "metadata": {},
   "outputs": [
    {
     "data": {
      "text/plain": [
       "array([5, 6, 5, ..., 1, 5, 3])"
      ]
     },
     "execution_count": 2,
     "metadata": {},
     "output_type": "execute_result"
    }
   ],
   "source": [
    "n_trials = nrows = 10_000\n",
    "n_dice = ncols = 2\n",
    "\n",
    "rolls = np.random.choice([1, 2, 3, 4, 5, 6], n_trials * n_dice)\n",
    "rolls\n"
   ]
  },
  {
   "cell_type": "markdown",
   "id": "c561905c",
   "metadata": {},
   "source": [
    "## Q2) If you flip 8 coins, what is the probability of getting exactly 3 heads? What is the probability of getting more than 3 heads?\n",
    "\n"
   ]
  },
  {
   "cell_type": "markdown",
   "id": "89039893",
   "metadata": {},
   "source": [
    "\n",
    "by theoretically,\n",
    "### Combination Formula:\n",
    "    -The total number of outcomes is 2^8(=256) because each coin can either be heads or tails, and there are 8 coins.\n",
    "\n",
    "    -The number of ways to get exactly 3 heads is given by \n",
    "     C(8,3), which is the number of combinations of 8 items taken 3 at a time.\n",
    "\n",
    "    -The probability is then C(8,3).\n",
    "    \n",
    "### For more than 3 heads:\n",
    "    -You'd sum up the probabilities of getting 4, 5, 6, 7, and 8 heads.\n",
    "\n",
    "    -For each case, use the combination formula to find the number of ways to get that specific number of heads.\n",
    "\n",
    "    -The probability is then the sum of these individual probabilities.\n",
    "\n",
    "Here are the steps:\n",
    "\n",
    "### Exactly 3 heads:\n",
    "    - C(8,3)=8!/(3!(8−3)!=8×7×6/3×2×1=56\n",
    "\n",
    " \n",
    "    - Probability = 56/256 =7/32\n",
    "\n",
    " \n",
    "### More than 3 heads:\n",
    "\n",
    "    - P(X>3)=P(X=4)+P(X=5)+P(X=6)+P(X=7)+P(X=8)\n",
    "            =1/2^8[c(8,4)+c(8,5)+c(8,6)+c(8,7)+c(8,8)]\n",
    "\n",
    "\n",
    "\n",
    "This provides an empirical estimation based on counting the outcomes that meet the specified conditions. Keep in mind that this is an approximation and becomes more accurate with a larger number of trials or simulations."
   ]
  },
  {
   "cell_type": "markdown",
   "id": "88c0a117",
   "metadata": {},
   "source": [
    "### 1. Represent the data"
   ]
  },
  {
   "cell_type": "code",
   "execution_count": 3,
   "id": "3d4c1012",
   "metadata": {},
   "outputs": [],
   "source": [
    "# lets create our simulation:\n",
    "# define our outcomes:\n",
    "outcomes = ['H','T']\n",
    "# number of trials will be our columns\n",
    "n_trials = 8\n",
    "# picking a number for our simulations.\n",
    "# the higher the better, but too high may cause the computer\n",
    "# to run a bit longer than we would like\n",
    "# it will give the no. of rows\n",
    "n_simulations = 10_000"
   ]
  },
  {
   "cell_type": "markdown",
   "id": "78f71af0",
   "metadata": {},
   "source": [
    "### 2. create a matrix of random numbers"
   ]
  },
  {
   "cell_type": "code",
   "execution_count": 4,
   "id": "fc7cf0ab",
   "metadata": {},
   "outputs": [],
   "source": [
    "eight_flips = np.random.choice(outcomes,(n_simulations,n_trials))"
   ]
  },
  {
   "cell_type": "code",
   "execution_count": 5,
   "id": "85a68622",
   "metadata": {},
   "outputs": [
    {
     "data": {
      "text/plain": [
       "array([['T', 'T', 'T', 'T', 'T', 'T', 'H', 'H'],\n",
       "       ['H', 'H', 'H', 'T', 'T', 'H', 'T', 'H'],\n",
       "       ['T', 'H', 'T', 'T', 'H', 'H', 'H', 'T'],\n",
       "       ['H', 'H', 'T', 'H', 'H', 'H', 'H', 'T'],\n",
       "       ['T', 'T', 'H', 'T', 'H', 'T', 'T', 'H']], dtype='<U1')"
      ]
     },
     "execution_count": 5,
     "metadata": {},
     "output_type": "execute_result"
    }
   ],
   "source": [
    "eight_flips[:5,:]"
   ]
  },
  {
   "cell_type": "markdown",
   "id": "2083fa71",
   "metadata": {},
   "source": [
    "### 3. Apply an aggregate row-wise to produce the results of each simulation\n"
   ]
  },
  {
   "cell_type": "code",
   "execution_count": 6,
   "id": "04b0e185",
   "metadata": {},
   "outputs": [
    {
     "data": {
      "text/plain": [
       "array([[False, False, False, ..., False,  True,  True],\n",
       "       [ True,  True,  True, ...,  True, False,  True],\n",
       "       [False,  True, False, ...,  True,  True, False],\n",
       "       ...,\n",
       "       [ True,  True,  True, ..., False, False,  True],\n",
       "       [False,  True,  True, ...,  True,  True,  True],\n",
       "       [False,  True,  True, ..., False, False,  True]])"
      ]
     },
     "execution_count": 6,
     "metadata": {},
     "output_type": "execute_result"
    }
   ],
   "source": [
    "(eight_flips == 'H')"
   ]
  },
  {
   "cell_type": "code",
   "execution_count": 7,
   "id": "84c20a0a",
   "metadata": {},
   "outputs": [
    {
     "data": {
      "text/plain": [
       "array([2, 5, 4, ..., 4, 6, 3])"
      ]
     },
     "execution_count": 7,
     "metadata": {},
     "output_type": "execute_result"
    }
   ],
   "source": [
    "(eight_flips == 'H').sum(axis=1)"
   ]
  },
  {
   "cell_type": "markdown",
   "id": "ff9a4ebc",
   "metadata": {},
   "source": [
    "### 4. Aggregate the resulting data to get our experimental probability\n",
    "\n"
   ]
  },
  {
   "cell_type": "code",
   "execution_count": 8,
   "id": "042279ec",
   "metadata": {},
   "outputs": [
    {
     "data": {
      "text/plain": [
       "array([2, 5, 4, ..., 4, 6, 3])"
      ]
     },
     "execution_count": 8,
     "metadata": {},
     "output_type": "execute_result"
    }
   ],
   "source": [
    "(eight_flips == 'H').sum(axis=1)"
   ]
  },
  {
   "cell_type": "code",
   "execution_count": 9,
   "id": "1a131afb",
   "metadata": {},
   "outputs": [
    {
     "data": {
      "text/plain": [
       "array([False, False, False, ..., False, False,  True])"
      ]
     },
     "execution_count": 9,
     "metadata": {},
     "output_type": "execute_result"
    }
   ],
   "source": [
    "## exactly 3 heads\n",
    "\n",
    "(eight_flips == 'H').sum(axis=1)==3"
   ]
  },
  {
   "cell_type": "code",
   "execution_count": 10,
   "id": "5d95d983",
   "metadata": {},
   "outputs": [
    {
     "data": {
      "text/plain": [
       "2183"
      ]
     },
     "execution_count": 10,
     "metadata": {},
     "output_type": "execute_result"
    }
   ],
   "source": [
    "((eight_flips == 'H').sum(axis=1)==3).sum()"
   ]
  },
  {
   "cell_type": "code",
   "execution_count": 11,
   "id": "3a25abf4",
   "metadata": {},
   "outputs": [
    {
     "data": {
      "text/plain": [
       "0.2183"
      ]
     },
     "execution_count": 11,
     "metadata": {},
     "output_type": "execute_result"
    }
   ],
   "source": [
    "((eight_flips == 'H').sum(axis=1)==3).sum()/n_simulations"
   ]
  },
  {
   "cell_type": "code",
   "execution_count": 12,
   "id": "0d3aaa04",
   "metadata": {},
   "outputs": [
    {
     "data": {
      "text/plain": [
       "array([False,  True,  True, ...,  True,  True,  True])"
      ]
     },
     "execution_count": 12,
     "metadata": {},
     "output_type": "execute_result"
    }
   ],
   "source": [
    "# getting more than 3 heads\n",
    "(eight_flips == 'H').sum(axis=1)>=3\n"
   ]
  },
  {
   "cell_type": "code",
   "execution_count": 13,
   "id": "c60a1262",
   "metadata": {},
   "outputs": [
    {
     "data": {
      "text/plain": [
       "8561"
      ]
     },
     "execution_count": 13,
     "metadata": {},
     "output_type": "execute_result"
    }
   ],
   "source": [
    "((eight_flips == 'H').sum(axis=1)>=3).sum()\n"
   ]
  },
  {
   "cell_type": "code",
   "execution_count": 14,
   "id": "4279ad72",
   "metadata": {},
   "outputs": [
    {
     "data": {
      "text/plain": [
       "0.8561"
      ]
     },
     "execution_count": 14,
     "metadata": {},
     "output_type": "execute_result"
    }
   ],
   "source": [
    "((eight_flips == 'H').sum(axis=1)>=3).sum()/n_simulations\n"
   ]
  },
  {
   "cell_type": "markdown",
   "id": "c1ceea29",
   "metadata": {},
   "source": [
    "## Q3) There are approximitely 3 web development cohorts for every 1 data science cohort at Codeup. Assuming that Codeup randomly selects an alumni to put on a billboard, what are the odds that the two billboards I drive past both have data science students on them?"
   ]
  },
  {
   "cell_type": "markdown",
   "id": "0b2f3ccb",
   "metadata": {},
   "source": [
    "Theoretically, \n",
    "\n",
    "If there are approximately 3 web development cohorts for every 1 data science cohort, and Codeup randomly selects an alumni to put on a billboard.\n",
    "Then,\n",
    "\n",
    "\n",
    "The probability of seeing a data science student on one billboard can be represented as \n",
    "\n",
    "            P(data science)=1/4 \n",
    "\n",
    "\n",
    "The probability of seeing a web development student on one billboard is \n",
    "\n",
    "            P(web development)=3/4\n",
    "\n",
    "Since these events are independent (assuming one billboard doesn't affect the other), you can multiply the probabilities to find the probability of both events happening (seeing data science students on both billboards):\n",
    "\n",
    "        P(data science on both)=P(Data Science)×P(Data Science)\n",
    "\n",
    "        P(data science on both)=1/4 × 1/4 = 1/16=0.0625\n",
    "\n",
    "So, the odds that the two billboards you drive past both have data science students on them are 1/16."
   ]
  },
  {
   "cell_type": "code",
   "execution_count": 15,
   "id": "450abdbd",
   "metadata": {},
   "outputs": [],
   "source": [
    "billboard =['Web Dev', 'Web Dev', 'Web Dev', 'Data Science']\n",
    "n_trials=2\n",
    "n_simulations=10000"
   ]
  },
  {
   "cell_type": "code",
   "execution_count": 16,
   "id": "c29d5d0c",
   "metadata": {},
   "outputs": [
    {
     "data": {
      "text/plain": [
       "array([['Web Dev', 'Data Science'],\n",
       "       ['Web Dev', 'Web Dev'],\n",
       "       ['Web Dev', 'Web Dev'],\n",
       "       ['Web Dev', 'Web Dev']], dtype='<U12')"
      ]
     },
     "execution_count": 16,
     "metadata": {},
     "output_type": "execute_result"
    }
   ],
   "source": [
    "codeup=np.random.choice(billboard,(n_simulations,n_trials))\n",
    "codeup[:4,:4]"
   ]
  },
  {
   "cell_type": "code",
   "execution_count": 17,
   "id": "9a5d3916",
   "metadata": {},
   "outputs": [
    {
     "data": {
      "text/plain": [
       "array([[False,  True],\n",
       "       [False, False],\n",
       "       [False, False],\n",
       "       ...,\n",
       "       [False, False],\n",
       "       [False, False],\n",
       "       [False, False]])"
      ]
     },
     "execution_count": 17,
     "metadata": {},
     "output_type": "execute_result"
    }
   ],
   "source": [
    "mask= (codeup=='Data Science')\n",
    "mask"
   ]
  },
  {
   "cell_type": "code",
   "execution_count": 18,
   "id": "6479ff72",
   "metadata": {},
   "outputs": [
    {
     "data": {
      "text/plain": [
       "array([False, False, False, ..., False, False, False])"
      ]
     },
     "execution_count": 18,
     "metadata": {},
     "output_type": "execute_result"
    }
   ],
   "source": [
    "mask.sum(axis=1)==2"
   ]
  },
  {
   "cell_type": "code",
   "execution_count": 19,
   "id": "31b07335",
   "metadata": {},
   "outputs": [
    {
     "data": {
      "text/plain": [
       "0.06"
      ]
     },
     "execution_count": 19,
     "metadata": {},
     "output_type": "execute_result"
    }
   ],
   "source": [
    "(mask.sum(axis=1)==2).mean()"
   ]
  },
  {
   "cell_type": "markdown",
   "id": "6f9c9125",
   "metadata": {},
   "source": [
    "## Q4) Codeup students buy, on average, 3 poptart packages with a standard deviation of 1.5 a day from the snack vending machine. If on monday the machine is restocked with 17 poptart packages, how likely is it that I will be able to buy some poptarts on Friday afternoon?\n",
    "\n",
    "### (Remember, if you have mean and standard deviation, use the np.random.normal) You'll need to make a judgement call on how to handle some of your values"
   ]
  },
  {
   "cell_type": "code",
   "execution_count": 20,
   "id": "9339a56c",
   "metadata": {},
   "outputs": [],
   "source": [
    "# Parameters\n",
    "mean_poptarts_per_day = 3\n",
    "std_dev_poptarts_per_day = 1.5\n",
    "days_until_friday = 4  # Monday to thursday\n"
   ]
  },
  {
   "cell_type": "code",
   "execution_count": 21,
   "id": "0caf4222",
   "metadata": {},
   "outputs": [],
   "source": [
    "# Simulate the number of poptarts bought each day\n",
    "poptarts_bought_each_day = np.random.normal(mean_poptarts_per_day, std_dev_poptarts_per_day, days_until_friday)\n"
   ]
  },
  {
   "cell_type": "code",
   "execution_count": 22,
   "id": "9cce97f1",
   "metadata": {},
   "outputs": [
    {
     "data": {
      "text/plain": [
       "array([1.86654951, 3.92588562, 3.08340355, 5.64719892])"
      ]
     },
     "execution_count": 22,
     "metadata": {},
     "output_type": "execute_result"
    }
   ],
   "source": [
    "poptarts_bought_each_day"
   ]
  },
  {
   "cell_type": "code",
   "execution_count": 23,
   "id": "2c1c7ad9",
   "metadata": {},
   "outputs": [
    {
     "data": {
      "text/plain": [
       "array([15.13345049, 11.20756487,  8.12416133,  2.47696241])"
      ]
     },
     "execution_count": 23,
     "metadata": {},
     "output_type": "execute_result"
    }
   ],
   "source": [
    "# Calculate the total poptarts remaining after each day\n",
    "poptarts_remaining = 17 - np.cumsum(poptarts_bought_each_day)\n",
    "poptarts_remaining"
   ]
  },
  {
   "cell_type": "code",
   "execution_count": 24,
   "id": "f34bd13f",
   "metadata": {},
   "outputs": [
    {
     "data": {
      "text/plain": [
       "True"
      ]
     },
     "execution_count": 24,
     "metadata": {},
     "output_type": "execute_result"
    }
   ],
   "source": [
    "# Check if there are poptarts left on Friday afternoon\n",
    "poptarts_available_on_friday = poptarts_remaining[-1] > 0\n",
    "poptarts_available_on_friday"
   ]
  },
  {
   "cell_type": "markdown",
   "id": "4fe0a4d8",
   "metadata": {},
   "source": [
    "## Q5) Compare Heights\n",
    "\n",
    "### - Men have an average height of 178 cm and standard deviation of 8cm.\n",
    "\n",
    "### - Women have a mean of 170, sd = 6cm.\n",
    "\n",
    "### - Since you have means and standard deviations, you can use np.random.normal to generate observations.\n",
    "\n",
    "### - If a man and woman are chosen at random, what is the likelihood the woman is taller than the man?"
   ]
  },
  {
   "cell_type": "code",
   "execution_count": 25,
   "id": "02c8ed8d",
   "metadata": {},
   "outputs": [
    {
     "name": "stdout",
     "output_type": "stream",
     "text": [
      "The likelihood that a randomly chosen woman is taller than a randomly chosen man is approximately: 21.12%\n"
     ]
    }
   ],
   "source": [
    "# Set up parameters\n",
    "mean_height_men = 178\n",
    "std_dev_men = 8\n",
    "\n",
    "mean_height_women = 170\n",
    "std_dev_women = 6\n",
    "\n",
    "# Number of simulations\n",
    "num_simulations = 100000\n",
    "\n",
    "# Generate random heights for men and women\n",
    "heights_men = np.random.normal(mean_height_men, std_dev_men, num_simulations)\n",
    "heights_women = np.random.normal(mean_height_women, std_dev_women, num_simulations)\n",
    "\n",
    "# Calculate the likelihood that a woman is taller than a man\n",
    "likelihood_taller_woman = np.mean(heights_women > heights_men) * 100\n",
    "\n",
    "# Print the result\n",
    "print(f\"The likelihood that a randomly chosen woman is taller than a randomly chosen man is approximately: {likelihood_taller_woman:.2f}%\")\n"
   ]
  },
  {
   "cell_type": "markdown",
   "id": "da33cd36",
   "metadata": {},
   "source": [
    "## Q6) When installing anaconda on a student's computer, there's a 1 in 250 chance that the download is corrupted and the installation fails. \n",
    "\n",
    "## What are the odds that after having 50 students download anaconda, no one has an installation issue? 100 students?\n",
    "\n",
    "## What is the probability that we observe an installation issue within the first 150 students that download anaconda?\n",
    "\n",
    "## How likely is it that 450 students all download anaconda without an issue?"
   ]
  },
  {
   "cell_type": "markdown",
   "id": "1313a3e2",
   "metadata": {},
   "source": []
  },
  {
   "cell_type": "markdown",
   "id": "0d3a7069",
   "metadata": {},
   "source": [
    "#### What are the odds that after having 50 students download anaconda, no one has an installation issue"
   ]
  },
  {
   "cell_type": "code",
   "execution_count": 26,
   "id": "e763a9fa",
   "metadata": {},
   "outputs": [],
   "source": [
    "# 1.represent the data\n",
    "\n",
    "p_issue=1/250\n",
    "ntrials=50\n",
    "n_simulations=1500"
   ]
  },
  {
   "cell_type": "code",
   "execution_count": 27,
   "id": "f1ff6b25",
   "metadata": {},
   "outputs": [],
   "source": [
    "# 2. set up matrix of random numbers\n",
    "stu_no_iss=np.random.random((n_simulations,ntrials))\n"
   ]
  },
  {
   "cell_type": "code",
   "execution_count": 28,
   "id": "7fb280c7",
   "metadata": {},
   "outputs": [
    {
     "data": {
      "text/plain": [
       "array([[0.2825686 , 0.222324  , 0.53829697, 0.25867299],\n",
       "       [0.81313404, 0.33094674, 0.84536886, 0.55732163],\n",
       "       [0.38976173, 0.38091799, 0.86504248, 0.11660362],\n",
       "       [0.12167473, 0.41716046, 0.51451993, 0.47256059]])"
      ]
     },
     "execution_count": 28,
     "metadata": {},
     "output_type": "execute_result"
    }
   ],
   "source": [
    "stu_no_iss[:4,:4]"
   ]
  },
  {
   "cell_type": "code",
   "execution_count": 29,
   "id": "362b095c",
   "metadata": {},
   "outputs": [
    {
     "data": {
      "text/plain": [
       "array([[False, False, False, ..., False, False, False],\n",
       "       [False, False, False, ..., False, False, False],\n",
       "       [False, False, False, ..., False, False, False],\n",
       "       ...,\n",
       "       [False, False, False, ..., False, False, False],\n",
       "       [False, False, False, ..., False, False, False],\n",
       "       [False, False, False, ..., False, False, False]])"
      ]
     },
     "execution_count": 29,
     "metadata": {},
     "output_type": "execute_result"
    }
   ],
   "source": [
    "# 3.apply an aggregate row-wise to produce the results of each simulation\n",
    "iss=(stu_no_iss<p_issue)\n",
    "iss"
   ]
  },
  {
   "cell_type": "markdown",
   "id": "0beb8dd3",
   "metadata": {},
   "source": [
    "Now that we have issue as either true or false, we can take the sum of each row to find the total number of issue. When we sum an array of boolean values, numpy will treat True as 1 and False as 0.\n",
    "\n",
    "Now we have the results of our simulation, an array where each number in the array represents how many issue."
   ]
  },
  {
   "cell_type": "code",
   "execution_count": 30,
   "id": "06c820dd",
   "metadata": {},
   "outputs": [
    {
     "data": {
      "text/plain": [
       "array([ True,  True,  True, ...,  True,  True, False])"
      ]
     },
     "execution_count": 30,
     "metadata": {},
     "output_type": "execute_result"
    }
   ],
   "source": [
    "# 4. aggregate the resulting data to get our experimental probability\n",
    "iss.sum(axis=1)==0"
   ]
  },
  {
   "cell_type": "code",
   "execution_count": 31,
   "id": "0653edb4",
   "metadata": {},
   "outputs": [
    {
     "data": {
      "text/plain": [
       "0.8313333333333334"
      ]
     },
     "execution_count": 31,
     "metadata": {},
     "output_type": "execute_result"
    }
   ],
   "source": [
    "(iss.sum(axis=1)==0).mean()"
   ]
  },
  {
   "cell_type": "markdown",
   "id": "000044f2",
   "metadata": {},
   "source": [
    "#### What are the odds that after having 100 students download anaconda, no one has an installation issue"
   ]
  },
  {
   "cell_type": "code",
   "execution_count": 32,
   "id": "80abf14e",
   "metadata": {},
   "outputs": [],
   "source": [
    "n_trials=100\n",
    "n_simulations=1500\n"
   ]
  },
  {
   "cell_type": "code",
   "execution_count": 33,
   "id": "452199c4",
   "metadata": {},
   "outputs": [
    {
     "data": {
      "text/plain": [
       "array([[0.84795468, 0.30171824, 0.54866199, 0.88516728],\n",
       "       [0.20082623, 0.91759781, 0.9538919 , 0.25491873],\n",
       "       [0.9595788 , 0.04853665, 0.51263341, 0.40730519],\n",
       "       [0.59079451, 0.05506815, 0.34791007, 0.30749601]])"
      ]
     },
     "execution_count": 33,
     "metadata": {},
     "output_type": "execute_result"
    }
   ],
   "source": [
    "down_ana=np.random.random((n_simulations,n_trials))\n",
    "down_ana[:4,:4]"
   ]
  },
  {
   "cell_type": "code",
   "execution_count": 34,
   "id": "9308385a",
   "metadata": {},
   "outputs": [
    {
     "data": {
      "text/plain": [
       "array([[False, False, False, ..., False, False, False],\n",
       "       [False, False, False, ..., False, False, False],\n",
       "       [False, False, False, ..., False, False, False],\n",
       "       ...,\n",
       "       [False, False, False, ..., False, False, False],\n",
       "       [False, False, False, ..., False, False, False],\n",
       "       [False, False, False, ..., False, False, False]])"
      ]
     },
     "execution_count": 34,
     "metadata": {},
     "output_type": "execute_result"
    }
   ],
   "source": [
    "down_ana<p_issue"
   ]
  },
  {
   "cell_type": "code",
   "execution_count": 35,
   "id": "9d869718",
   "metadata": {},
   "outputs": [
    {
     "data": {
      "text/plain": [
       "array([0, 1, 0, ..., 1, 0, 1])"
      ]
     },
     "execution_count": 35,
     "metadata": {},
     "output_type": "execute_result"
    }
   ],
   "source": [
    "(down_ana<p_issue).sum(axis=1)"
   ]
  },
  {
   "cell_type": "code",
   "execution_count": 36,
   "id": "7d912362",
   "metadata": {},
   "outputs": [
    {
     "data": {
      "text/plain": [
       "array([ True, False,  True, ..., False,  True, False])"
      ]
     },
     "execution_count": 36,
     "metadata": {},
     "output_type": "execute_result"
    }
   ],
   "source": [
    "install=(down_ana<p_issue).sum(axis=1)==0\n",
    "install"
   ]
  },
  {
   "cell_type": "code",
   "execution_count": 37,
   "id": "a441a4b1",
   "metadata": {},
   "outputs": [
    {
     "data": {
      "text/plain": [
       "0.6813333333333333"
      ]
     },
     "execution_count": 37,
     "metadata": {},
     "output_type": "execute_result"
    }
   ],
   "source": [
    "install.mean()"
   ]
  },
  {
   "cell_type": "markdown",
   "id": "663bae17",
   "metadata": {},
   "source": [
    "#### What are the odds that after having 150 students download anaconda, no one has an installation issue"
   ]
  },
  {
   "cell_type": "code",
   "execution_count": 38,
   "id": "e1a877c1",
   "metadata": {},
   "outputs": [],
   "source": [
    "n_trials=150\n",
    "n_simulations=1500"
   ]
  },
  {
   "cell_type": "code",
   "execution_count": 39,
   "id": "a1a73155",
   "metadata": {},
   "outputs": [],
   "source": [
    "down_ana=np.random.random((n_simulations,n_trials))"
   ]
  },
  {
   "cell_type": "code",
   "execution_count": 40,
   "id": "a2e607e9",
   "metadata": {},
   "outputs": [
    {
     "data": {
      "text/plain": [
       "array([[0.47614358, 0.56611204, 0.65518969, 0.97081282],\n",
       "       [0.86171492, 0.64256331, 0.32986573, 0.40625722],\n",
       "       [0.1645114 , 0.31724234, 0.22584254, 0.2647499 ],\n",
       "       [0.51229916, 0.0336853 , 0.82233783, 0.35533336]])"
      ]
     },
     "execution_count": 40,
     "metadata": {},
     "output_type": "execute_result"
    }
   ],
   "source": [
    "down_ana[:4,:4]"
   ]
  },
  {
   "cell_type": "code",
   "execution_count": 41,
   "id": "fddb9f55",
   "metadata": {},
   "outputs": [
    {
     "data": {
      "text/plain": [
       "array([[False, False, False, ..., False, False, False],\n",
       "       [False, False, False, ..., False, False, False],\n",
       "       [False, False, False, ..., False, False, False],\n",
       "       ...,\n",
       "       [False, False, False, ..., False, False, False],\n",
       "       [False, False, False, ..., False,  True, False],\n",
       "       [False, False, False, ..., False, False, False]])"
      ]
     },
     "execution_count": 41,
     "metadata": {},
     "output_type": "execute_result"
    }
   ],
   "source": [
    "#boolean mask\n",
    "down_ana<p_issue"
   ]
  },
  {
   "cell_type": "code",
   "execution_count": 42,
   "id": "51f8ecd5",
   "metadata": {},
   "outputs": [
    {
     "data": {
      "text/plain": [
       "array([1, 0, 0, ..., 1, 2, 3])"
      ]
     },
     "execution_count": 42,
     "metadata": {},
     "output_type": "execute_result"
    }
   ],
   "source": [
    "(down_ana<p_issue).sum(axis=1)"
   ]
  },
  {
   "cell_type": "code",
   "execution_count": 43,
   "id": "1e5803d7",
   "metadata": {},
   "outputs": [
    {
     "data": {
      "text/plain": [
       "array([False,  True,  True, ..., False, False, False])"
      ]
     },
     "execution_count": 43,
     "metadata": {},
     "output_type": "execute_result"
    }
   ],
   "source": [
    "install=(down_ana<p_issue).sum(axis=1)==0\n",
    "install"
   ]
  },
  {
   "cell_type": "code",
   "execution_count": 44,
   "id": "96dfe972",
   "metadata": {},
   "outputs": [
    {
     "data": {
      "text/plain": [
       "0.5713333333333334"
      ]
     },
     "execution_count": 44,
     "metadata": {},
     "output_type": "execute_result"
    }
   ],
   "source": [
    "install.mean()"
   ]
  },
  {
   "cell_type": "markdown",
   "id": "2428e5d0",
   "metadata": {},
   "source": [
    "#### What are the odds that after having 450 students download anaconda, no one has an installation issue."
   ]
  },
  {
   "cell_type": "code",
   "execution_count": 45,
   "id": "92a7c3d7",
   "metadata": {},
   "outputs": [],
   "source": [
    "n_trials=450\n",
    "n_simulations=1500"
   ]
  },
  {
   "cell_type": "code",
   "execution_count": 46,
   "id": "5fbe2585",
   "metadata": {},
   "outputs": [
    {
     "data": {
      "text/plain": [
       "array([[0.57649952, 0.00676252, 0.09085719, 0.09320964],\n",
       "       [0.30522832, 0.83845126, 0.14044983, 0.19586591],\n",
       "       [0.96336166, 0.31505129, 0.51807312, 0.03552731],\n",
       "       [0.63248127, 0.3276618 , 0.90012469, 0.1239072 ]])"
      ]
     },
     "execution_count": 46,
     "metadata": {},
     "output_type": "execute_result"
    }
   ],
   "source": [
    "down_ana=np.random.random((n_simulations,n_trials))\n",
    "down_ana[:4,:4]"
   ]
  },
  {
   "cell_type": "code",
   "execution_count": 47,
   "id": "84f6b7a9",
   "metadata": {},
   "outputs": [
    {
     "data": {
      "text/plain": [
       "array([[False, False, False, ..., False, False, False],\n",
       "       [False, False, False, ..., False, False, False],\n",
       "       [False, False, False, ..., False, False, False],\n",
       "       ...,\n",
       "       [False, False, False, ..., False, False, False],\n",
       "       [False, False, False, ..., False, False, False],\n",
       "       [False, False, False, ..., False, False, False]])"
      ]
     },
     "execution_count": 47,
     "metadata": {},
     "output_type": "execute_result"
    }
   ],
   "source": [
    "down_ana<p_issue"
   ]
  },
  {
   "cell_type": "code",
   "execution_count": 48,
   "id": "b516800e",
   "metadata": {},
   "outputs": [],
   "source": [
    "install=(down_ana<p_issue).sum(axis=1)==0"
   ]
  },
  {
   "cell_type": "code",
   "execution_count": 49,
   "id": "1ea015ea",
   "metadata": {},
   "outputs": [
    {
     "data": {
      "text/plain": [
       "0.16266666666666665"
      ]
     },
     "execution_count": 49,
     "metadata": {},
     "output_type": "execute_result"
    }
   ],
   "source": [
    "install.mean()"
   ]
  },
  {
   "cell_type": "markdown",
   "id": "8bd35e84",
   "metadata": {},
   "source": [
    "## Q7) There's a 70% chance on any given day that there will be at least one food truck at Travis Park. \n",
    "\n",
    "## However, you haven't seen a food truck there in 3 days. How unlikely is this?\n",
    "\n",
    "## How likely is it that a food truck will show up sometime this week?\n",
    "\n"
   ]
  },
  {
   "cell_type": "code",
   "execution_count": 50,
   "id": "26b1c946",
   "metadata": {},
   "outputs": [],
   "source": [
    "# Parameters\n",
    "prob_food_truck_daily = 0.7\n",
    "prob_nofood_truck_daily=1-0.7\n",
    "outcome=['food_truck','no_food_truck']\n",
    "n_trials= 3\n",
    "n_simulations = 100000"
   ]
  },
  {
   "cell_type": "code",
   "execution_count": 51,
   "id": "02d69dca",
   "metadata": {},
   "outputs": [
    {
     "data": {
      "text/plain": [
       "array([['food_truck', 'no_food_truck', 'no_food_truck'],\n",
       "       ['no_food_truck', 'food_truck', 'food_truck'],\n",
       "       ['food_truck', 'food_truck', 'no_food_truck'],\n",
       "       ...,\n",
       "       ['food_truck', 'food_truck', 'food_truck'],\n",
       "       ['no_food_truck', 'food_truck', 'food_truck'],\n",
       "       ['food_truck', 'no_food_truck', 'food_truck']], dtype='<U13')"
      ]
     },
     "execution_count": 51,
     "metadata": {},
     "output_type": "execute_result"
    }
   ],
   "source": [
    "truck=np.random.choice(outcome,(n_simulations,n_trials),p=[0.7,0.3])\n",
    "truck"
   ]
  },
  {
   "cell_type": "code",
   "execution_count": 52,
   "id": "56881bc7",
   "metadata": {},
   "outputs": [
    {
     "data": {
      "text/plain": [
       "array([[ True, False, False],\n",
       "       [False,  True,  True],\n",
       "       [ True,  True, False],\n",
       "       ...,\n",
       "       [ True,  True,  True],\n",
       "       [False,  True,  True],\n",
       "       [ True, False,  True]])"
      ]
     },
     "execution_count": 52,
     "metadata": {},
     "output_type": "execute_result"
    }
   ],
   "source": [
    "mask=(truck=='food_truck')\n",
    "mask"
   ]
  },
  {
   "cell_type": "code",
   "execution_count": 53,
   "id": "68e41e49",
   "metadata": {},
   "outputs": [
    {
     "data": {
      "text/plain": [
       "array([ True,  True,  True, ...,  True,  True,  True])"
      ]
     },
     "execution_count": 53,
     "metadata": {},
     "output_type": "execute_result"
    }
   ],
   "source": [
    "mask.sum(axis=1)>0"
   ]
  },
  {
   "cell_type": "code",
   "execution_count": 54,
   "id": "59fb5e11",
   "metadata": {},
   "outputs": [
    {
     "data": {
      "text/plain": [
       "97360"
      ]
     },
     "execution_count": 54,
     "metadata": {},
     "output_type": "execute_result"
    }
   ],
   "source": [
    "prob=(mask.sum(axis=1)>0).sum()\n",
    "prob"
   ]
  },
  {
   "cell_type": "code",
   "execution_count": 55,
   "id": "4d1be6f3",
   "metadata": {},
   "outputs": [
    {
     "data": {
      "text/plain": [
       "0.9736"
      ]
     },
     "execution_count": 55,
     "metadata": {},
     "output_type": "execute_result"
    }
   ],
   "source": [
    "(mask.sum(axis=1)>0).mean()"
   ]
  },
  {
   "cell_type": "markdown",
   "id": "ee5c285a",
   "metadata": {},
   "source": [
    "## How likely is it that a food truck will show up sometime this week?\n"
   ]
  },
  {
   "cell_type": "code",
   "execution_count": 57,
   "id": "36cd2fe6",
   "metadata": {},
   "outputs": [],
   "source": [
    "n_trials=7\n",
    "n_simulations=10000"
   ]
  },
  {
   "cell_type": "code",
   "execution_count": 61,
   "id": "070d7d3f",
   "metadata": {
    "scrolled": true
   },
   "outputs": [
    {
     "data": {
      "text/plain": [
       "array([['food_truck', 'no_food_truck', 'food_truck', ...,\n",
       "        'no_food_truck', 'food_truck', 'food_truck'],\n",
       "       ['food_truck', 'no_food_truck', 'food_truck', ...,\n",
       "        'no_food_truck', 'no_food_truck', 'food_truck'],\n",
       "       ['food_truck', 'food_truck', 'food_truck', ..., 'food_truck',\n",
       "        'food_truck', 'food_truck'],\n",
       "       ...,\n",
       "       ['food_truck', 'food_truck', 'food_truck', ..., 'no_food_truck',\n",
       "        'food_truck', 'food_truck'],\n",
       "       ['food_truck', 'food_truck', 'no_food_truck', ...,\n",
       "        'no_food_truck', 'no_food_truck', 'food_truck'],\n",
       "       ['food_truck', 'food_truck', 'no_food_truck', ..., 'food_truck',\n",
       "        'food_truck', 'no_food_truck']], dtype='<U13')"
      ]
     },
     "execution_count": 61,
     "metadata": {},
     "output_type": "execute_result"
    }
   ],
   "source": [
    "tr_we=np.random.choice(outcome,(n_simulations,n_trials),p=[0.7,0.3])\n",
    "tr_we"
   ]
  },
  {
   "cell_type": "code",
   "execution_count": 62,
   "id": "9b505ec0",
   "metadata": {},
   "outputs": [
    {
     "data": {
      "text/plain": [
       "array([[ True, False,  True, ..., False,  True,  True],\n",
       "       [ True, False,  True, ..., False, False,  True],\n",
       "       [ True,  True,  True, ...,  True,  True,  True],\n",
       "       ...,\n",
       "       [ True,  True,  True, ..., False,  True,  True],\n",
       "       [ True,  True, False, ..., False, False,  True],\n",
       "       [ True,  True, False, ...,  True,  True, False]])"
      ]
     },
     "execution_count": 62,
     "metadata": {},
     "output_type": "execute_result"
    }
   ],
   "source": [
    "mask=(tr_we=='food_truck')\n",
    "mask"
   ]
  },
  {
   "cell_type": "code",
   "execution_count": 63,
   "id": "296c36cb",
   "metadata": {},
   "outputs": [
    {
     "data": {
      "text/plain": [
       "array([4, 3, 7, ..., 5, 4, 5])"
      ]
     },
     "execution_count": 63,
     "metadata": {},
     "output_type": "execute_result"
    }
   ],
   "source": [
    "mask.sum(axis=1)"
   ]
  },
  {
   "cell_type": "code",
   "execution_count": 64,
   "id": "83dd6df3",
   "metadata": {},
   "outputs": [
    {
     "data": {
      "text/plain": [
       "array([ True,  True,  True, ...,  True,  True,  True])"
      ]
     },
     "execution_count": 64,
     "metadata": {},
     "output_type": "execute_result"
    }
   ],
   "source": [
    "mask.sum(axis=1)>0"
   ]
  },
  {
   "cell_type": "code",
   "execution_count": 66,
   "id": "3d3281ea",
   "metadata": {},
   "outputs": [
    {
     "data": {
      "text/plain": [
       "0.9997"
      ]
     },
     "execution_count": 66,
     "metadata": {},
     "output_type": "execute_result"
    }
   ],
   "source": [
    "(mask.sum(axis=1)>0).mean()"
   ]
  },
  {
   "cell_type": "markdown",
   "id": "55b3f356",
   "metadata": {},
   "source": [
    "## Q8) If 23 people are in the same room, \n",
    "\n",
    "## what are the odds that two of them share a birthday? \n",
    "\n",
    "## What if it's 20 people? 40?\n",
    "\n"
   ]
  },
  {
   "cell_type": "code",
   "execution_count": 70,
   "id": "6502f2ab",
   "metadata": {},
   "outputs": [
    {
     "data": {
      "text/plain": [
       "array([[142,  58, 365, ..., 216,  86, 204],\n",
       "       [147, 212,  76, ..., 243, 189, 181],\n",
       "       [267, 331,  67, ..., 279, 275, 192],\n",
       "       ...,\n",
       "       [ 39, 334, 362, ..., 109, 183, 271],\n",
       "       [251, 303, 331, ...,  63,   3, 170],\n",
       "       [ 63, 269, 195, ...,  69, 231, 335]])"
      ]
     },
     "execution_count": 70,
     "metadata": {},
     "output_type": "execute_result"
    }
   ],
   "source": [
    "n_simulation = 10_000\n",
    "days = list(range(1,366))\n",
    "\n",
    "n_trials= people = 23\n",
    "\n",
    "data = np.random.choice(days,(n_simulations,n_trials))\n",
    "data\n",
    "\n"
   ]
  },
  {
   "cell_type": "code",
   "execution_count": 71,
   "id": "4ba8eafa",
   "metadata": {},
   "outputs": [
    {
     "data": {
      "text/html": [
       "<div>\n",
       "<style scoped>\n",
       "    .dataframe tbody tr th:only-of-type {\n",
       "        vertical-align: middle;\n",
       "    }\n",
       "\n",
       "    .dataframe tbody tr th {\n",
       "        vertical-align: top;\n",
       "    }\n",
       "\n",
       "    .dataframe thead th {\n",
       "        text-align: right;\n",
       "    }\n",
       "</style>\n",
       "<table border=\"1\" class=\"dataframe\">\n",
       "  <thead>\n",
       "    <tr style=\"text-align: right;\">\n",
       "      <th></th>\n",
       "      <th>0</th>\n",
       "      <th>1</th>\n",
       "      <th>2</th>\n",
       "      <th>3</th>\n",
       "      <th>4</th>\n",
       "      <th>5</th>\n",
       "      <th>6</th>\n",
       "      <th>7</th>\n",
       "      <th>8</th>\n",
       "      <th>9</th>\n",
       "      <th>...</th>\n",
       "      <th>13</th>\n",
       "      <th>14</th>\n",
       "      <th>15</th>\n",
       "      <th>16</th>\n",
       "      <th>17</th>\n",
       "      <th>18</th>\n",
       "      <th>19</th>\n",
       "      <th>20</th>\n",
       "      <th>21</th>\n",
       "      <th>22</th>\n",
       "    </tr>\n",
       "  </thead>\n",
       "  <tbody>\n",
       "    <tr>\n",
       "      <th>0</th>\n",
       "      <td>142</td>\n",
       "      <td>58</td>\n",
       "      <td>365</td>\n",
       "      <td>227</td>\n",
       "      <td>196</td>\n",
       "      <td>76</td>\n",
       "      <td>195</td>\n",
       "      <td>308</td>\n",
       "      <td>34</td>\n",
       "      <td>34</td>\n",
       "      <td>...</td>\n",
       "      <td>119</td>\n",
       "      <td>120</td>\n",
       "      <td>221</td>\n",
       "      <td>279</td>\n",
       "      <td>360</td>\n",
       "      <td>135</td>\n",
       "      <td>180</td>\n",
       "      <td>216</td>\n",
       "      <td>86</td>\n",
       "      <td>204</td>\n",
       "    </tr>\n",
       "    <tr>\n",
       "      <th>1</th>\n",
       "      <td>147</td>\n",
       "      <td>212</td>\n",
       "      <td>76</td>\n",
       "      <td>148</td>\n",
       "      <td>15</td>\n",
       "      <td>154</td>\n",
       "      <td>99</td>\n",
       "      <td>191</td>\n",
       "      <td>77</td>\n",
       "      <td>192</td>\n",
       "      <td>...</td>\n",
       "      <td>87</td>\n",
       "      <td>248</td>\n",
       "      <td>363</td>\n",
       "      <td>224</td>\n",
       "      <td>19</td>\n",
       "      <td>303</td>\n",
       "      <td>212</td>\n",
       "      <td>243</td>\n",
       "      <td>189</td>\n",
       "      <td>181</td>\n",
       "    </tr>\n",
       "    <tr>\n",
       "      <th>2</th>\n",
       "      <td>267</td>\n",
       "      <td>331</td>\n",
       "      <td>67</td>\n",
       "      <td>181</td>\n",
       "      <td>39</td>\n",
       "      <td>100</td>\n",
       "      <td>82</td>\n",
       "      <td>332</td>\n",
       "      <td>311</td>\n",
       "      <td>219</td>\n",
       "      <td>...</td>\n",
       "      <td>162</td>\n",
       "      <td>211</td>\n",
       "      <td>170</td>\n",
       "      <td>7</td>\n",
       "      <td>53</td>\n",
       "      <td>84</td>\n",
       "      <td>98</td>\n",
       "      <td>279</td>\n",
       "      <td>275</td>\n",
       "      <td>192</td>\n",
       "    </tr>\n",
       "    <tr>\n",
       "      <th>3</th>\n",
       "      <td>140</td>\n",
       "      <td>204</td>\n",
       "      <td>15</td>\n",
       "      <td>204</td>\n",
       "      <td>219</td>\n",
       "      <td>102</td>\n",
       "      <td>138</td>\n",
       "      <td>293</td>\n",
       "      <td>180</td>\n",
       "      <td>87</td>\n",
       "      <td>...</td>\n",
       "      <td>188</td>\n",
       "      <td>278</td>\n",
       "      <td>137</td>\n",
       "      <td>218</td>\n",
       "      <td>167</td>\n",
       "      <td>161</td>\n",
       "      <td>273</td>\n",
       "      <td>211</td>\n",
       "      <td>87</td>\n",
       "      <td>74</td>\n",
       "    </tr>\n",
       "    <tr>\n",
       "      <th>4</th>\n",
       "      <td>167</td>\n",
       "      <td>146</td>\n",
       "      <td>282</td>\n",
       "      <td>145</td>\n",
       "      <td>338</td>\n",
       "      <td>110</td>\n",
       "      <td>344</td>\n",
       "      <td>108</td>\n",
       "      <td>134</td>\n",
       "      <td>312</td>\n",
       "      <td>...</td>\n",
       "      <td>285</td>\n",
       "      <td>327</td>\n",
       "      <td>125</td>\n",
       "      <td>347</td>\n",
       "      <td>343</td>\n",
       "      <td>143</td>\n",
       "      <td>326</td>\n",
       "      <td>102</td>\n",
       "      <td>270</td>\n",
       "      <td>102</td>\n",
       "    </tr>\n",
       "  </tbody>\n",
       "</table>\n",
       "<p>5 rows × 23 columns</p>\n",
       "</div>"
      ],
      "text/plain": [
       "    0    1    2    3    4    5    6    7    8    9   ...   13   14   15   16  \\\n",
       "0  142   58  365  227  196   76  195  308   34   34  ...  119  120  221  279   \n",
       "1  147  212   76  148   15  154   99  191   77  192  ...   87  248  363  224   \n",
       "2  267  331   67  181   39  100   82  332  311  219  ...  162  211  170    7   \n",
       "3  140  204   15  204  219  102  138  293  180   87  ...  188  278  137  218   \n",
       "4  167  146  282  145  338  110  344  108  134  312  ...  285  327  125  347   \n",
       "\n",
       "    17   18   19   20   21   22  \n",
       "0  360  135  180  216   86  204  \n",
       "1   19  303  212  243  189  181  \n",
       "2   53   84   98  279  275  192  \n",
       "3  167  161  273  211   87   74  \n",
       "4  343  143  326  102  270  102  \n",
       "\n",
       "[5 rows x 23 columns]"
      ]
     },
     "execution_count": 71,
     "metadata": {},
     "output_type": "execute_result"
    }
   ],
   "source": [
    "df_data = pd.DataFrame(data)\n",
    "df_data.head()"
   ]
  },
  {
   "cell_type": "code",
   "execution_count": 72,
   "id": "9ee9130b",
   "metadata": {},
   "outputs": [
    {
     "data": {
      "text/plain": [
       "0       22\n",
       "1       21\n",
       "2       23\n",
       "3       21\n",
       "4       22\n",
       "        ..\n",
       "9995    21\n",
       "9996    23\n",
       "9997    23\n",
       "9998    23\n",
       "9999    22\n",
       "Length: 10000, dtype: int64"
      ]
     },
     "execution_count": 72,
     "metadata": {},
     "output_type": "execute_result"
    }
   ],
   "source": [
    "df_data.nunique(axis=1)"
   ]
  },
  {
   "cell_type": "code",
   "execution_count": 78,
   "id": "fb397269",
   "metadata": {},
   "outputs": [
    {
     "data": {
      "text/plain": [
       "0        True\n",
       "1        True\n",
       "2       False\n",
       "3        True\n",
       "4        True\n",
       "        ...  \n",
       "9995     True\n",
       "9996    False\n",
       "9997    False\n",
       "9998    False\n",
       "9999     True\n",
       "Length: 10000, dtype: bool"
      ]
     },
     "execution_count": 78,
     "metadata": {},
     "output_type": "execute_result"
    }
   ],
   "source": [
    "df_data.nunique(axis=1)!= n_trials"
   ]
  },
  {
   "cell_type": "code",
   "execution_count": 79,
   "id": "3d080f8f",
   "metadata": {},
   "outputs": [
    {
     "data": {
      "text/plain": [
       "0.5093"
      ]
     },
     "execution_count": 79,
     "metadata": {},
     "output_type": "execute_result"
    }
   ],
   "source": [
    "(df_data.nunique(axis=1)!= n_trials).mean()"
   ]
  },
  {
   "cell_type": "markdown",
   "id": "c24fe5fd",
   "metadata": {},
   "source": [
    "## what if it's 20 people"
   ]
  },
  {
   "cell_type": "code",
   "execution_count": 80,
   "id": "85c60fba",
   "metadata": {},
   "outputs": [],
   "source": [
    "n_trials=20"
   ]
  },
  {
   "cell_type": "code",
   "execution_count": 81,
   "id": "eba9cfb3",
   "metadata": {},
   "outputs": [
    {
     "data": {
      "text/plain": [
       "array([[ 33, 296, 268, ..., 247,  58, 242],\n",
       "       [154,  75, 138, ..., 154, 328, 216],\n",
       "       [170, 129, 116, ...,   6, 262, 146],\n",
       "       ...,\n",
       "       [312, 319, 170, ..., 199, 108,  40],\n",
       "       [235, 181,  13, ..., 334,  24, 284],\n",
       "       [ 51, 151, 203, ..., 139, 289, 221]])"
      ]
     },
     "execution_count": 81,
     "metadata": {},
     "output_type": "execute_result"
    }
   ],
   "source": [
    "data = np.random.choice(days,(n_simulations,n_trials))\n",
    "data"
   ]
  },
  {
   "cell_type": "code",
   "execution_count": 82,
   "id": "19d26609",
   "metadata": {},
   "outputs": [
    {
     "data": {
      "text/html": [
       "<div>\n",
       "<style scoped>\n",
       "    .dataframe tbody tr th:only-of-type {\n",
       "        vertical-align: middle;\n",
       "    }\n",
       "\n",
       "    .dataframe tbody tr th {\n",
       "        vertical-align: top;\n",
       "    }\n",
       "\n",
       "    .dataframe thead th {\n",
       "        text-align: right;\n",
       "    }\n",
       "</style>\n",
       "<table border=\"1\" class=\"dataframe\">\n",
       "  <thead>\n",
       "    <tr style=\"text-align: right;\">\n",
       "      <th></th>\n",
       "      <th>0</th>\n",
       "      <th>1</th>\n",
       "      <th>2</th>\n",
       "      <th>3</th>\n",
       "      <th>4</th>\n",
       "      <th>5</th>\n",
       "      <th>6</th>\n",
       "      <th>7</th>\n",
       "      <th>8</th>\n",
       "      <th>9</th>\n",
       "      <th>10</th>\n",
       "      <th>11</th>\n",
       "      <th>12</th>\n",
       "      <th>13</th>\n",
       "      <th>14</th>\n",
       "      <th>15</th>\n",
       "      <th>16</th>\n",
       "      <th>17</th>\n",
       "      <th>18</th>\n",
       "      <th>19</th>\n",
       "    </tr>\n",
       "  </thead>\n",
       "  <tbody>\n",
       "    <tr>\n",
       "      <th>0</th>\n",
       "      <td>33</td>\n",
       "      <td>296</td>\n",
       "      <td>268</td>\n",
       "      <td>80</td>\n",
       "      <td>164</td>\n",
       "      <td>362</td>\n",
       "      <td>264</td>\n",
       "      <td>191</td>\n",
       "      <td>312</td>\n",
       "      <td>273</td>\n",
       "      <td>199</td>\n",
       "      <td>266</td>\n",
       "      <td>71</td>\n",
       "      <td>29</td>\n",
       "      <td>58</td>\n",
       "      <td>151</td>\n",
       "      <td>170</td>\n",
       "      <td>247</td>\n",
       "      <td>58</td>\n",
       "      <td>242</td>\n",
       "    </tr>\n",
       "    <tr>\n",
       "      <th>1</th>\n",
       "      <td>154</td>\n",
       "      <td>75</td>\n",
       "      <td>138</td>\n",
       "      <td>262</td>\n",
       "      <td>161</td>\n",
       "      <td>108</td>\n",
       "      <td>278</td>\n",
       "      <td>312</td>\n",
       "      <td>253</td>\n",
       "      <td>163</td>\n",
       "      <td>271</td>\n",
       "      <td>28</td>\n",
       "      <td>99</td>\n",
       "      <td>318</td>\n",
       "      <td>229</td>\n",
       "      <td>156</td>\n",
       "      <td>223</td>\n",
       "      <td>154</td>\n",
       "      <td>328</td>\n",
       "      <td>216</td>\n",
       "    </tr>\n",
       "    <tr>\n",
       "      <th>2</th>\n",
       "      <td>170</td>\n",
       "      <td>129</td>\n",
       "      <td>116</td>\n",
       "      <td>93</td>\n",
       "      <td>42</td>\n",
       "      <td>172</td>\n",
       "      <td>114</td>\n",
       "      <td>141</td>\n",
       "      <td>365</td>\n",
       "      <td>198</td>\n",
       "      <td>267</td>\n",
       "      <td>168</td>\n",
       "      <td>140</td>\n",
       "      <td>239</td>\n",
       "      <td>60</td>\n",
       "      <td>144</td>\n",
       "      <td>257</td>\n",
       "      <td>6</td>\n",
       "      <td>262</td>\n",
       "      <td>146</td>\n",
       "    </tr>\n",
       "    <tr>\n",
       "      <th>3</th>\n",
       "      <td>272</td>\n",
       "      <td>64</td>\n",
       "      <td>205</td>\n",
       "      <td>150</td>\n",
       "      <td>329</td>\n",
       "      <td>336</td>\n",
       "      <td>272</td>\n",
       "      <td>105</td>\n",
       "      <td>352</td>\n",
       "      <td>317</td>\n",
       "      <td>189</td>\n",
       "      <td>68</td>\n",
       "      <td>216</td>\n",
       "      <td>180</td>\n",
       "      <td>81</td>\n",
       "      <td>101</td>\n",
       "      <td>93</td>\n",
       "      <td>257</td>\n",
       "      <td>304</td>\n",
       "      <td>200</td>\n",
       "    </tr>\n",
       "    <tr>\n",
       "      <th>4</th>\n",
       "      <td>110</td>\n",
       "      <td>247</td>\n",
       "      <td>238</td>\n",
       "      <td>312</td>\n",
       "      <td>285</td>\n",
       "      <td>68</td>\n",
       "      <td>73</td>\n",
       "      <td>271</td>\n",
       "      <td>105</td>\n",
       "      <td>127</td>\n",
       "      <td>128</td>\n",
       "      <td>321</td>\n",
       "      <td>139</td>\n",
       "      <td>355</td>\n",
       "      <td>67</td>\n",
       "      <td>290</td>\n",
       "      <td>79</td>\n",
       "      <td>317</td>\n",
       "      <td>344</td>\n",
       "      <td>151</td>\n",
       "    </tr>\n",
       "  </tbody>\n",
       "</table>\n",
       "</div>"
      ],
      "text/plain": [
       "    0    1    2    3    4    5    6    7    8    9    10   11   12   13   14  \\\n",
       "0   33  296  268   80  164  362  264  191  312  273  199  266   71   29   58   \n",
       "1  154   75  138  262  161  108  278  312  253  163  271   28   99  318  229   \n",
       "2  170  129  116   93   42  172  114  141  365  198  267  168  140  239   60   \n",
       "3  272   64  205  150  329  336  272  105  352  317  189   68  216  180   81   \n",
       "4  110  247  238  312  285   68   73  271  105  127  128  321  139  355   67   \n",
       "\n",
       "    15   16   17   18   19  \n",
       "0  151  170  247   58  242  \n",
       "1  156  223  154  328  216  \n",
       "2  144  257    6  262  146  \n",
       "3  101   93  257  304  200  \n",
       "4  290   79  317  344  151  "
      ]
     },
     "execution_count": 82,
     "metadata": {},
     "output_type": "execute_result"
    }
   ],
   "source": [
    "df=pd.DataFrame(data)\n",
    "df.head()"
   ]
  },
  {
   "cell_type": "code",
   "execution_count": 83,
   "id": "c370c6d6",
   "metadata": {},
   "outputs": [
    {
     "data": {
      "text/plain": [
       "0     365\n",
       "1     365\n",
       "2     365\n",
       "3     365\n",
       "4     365\n",
       "5     365\n",
       "6     365\n",
       "7     365\n",
       "8     365\n",
       "9     365\n",
       "10    365\n",
       "11    365\n",
       "12    365\n",
       "13    365\n",
       "14    365\n",
       "15    365\n",
       "16    365\n",
       "17    365\n",
       "18    365\n",
       "19    365\n",
       "dtype: int64"
      ]
     },
     "execution_count": 83,
     "metadata": {},
     "output_type": "execute_result"
    }
   ],
   "source": [
    "df.nunique()"
   ]
  },
  {
   "cell_type": "code",
   "execution_count": 85,
   "id": "ae5aded4",
   "metadata": {},
   "outputs": [
    {
     "data": {
      "text/plain": [
       "0       19\n",
       "1       19\n",
       "2       20\n",
       "3       19\n",
       "4       20\n",
       "        ..\n",
       "9995    19\n",
       "9996    19\n",
       "9997    20\n",
       "9998    20\n",
       "9999    20\n",
       "Length: 10000, dtype: int64"
      ]
     },
     "execution_count": 85,
     "metadata": {},
     "output_type": "execute_result"
    }
   ],
   "source": [
    "df.nunique(axis=1)"
   ]
  },
  {
   "cell_type": "code",
   "execution_count": 86,
   "id": "ecb69224",
   "metadata": {},
   "outputs": [
    {
     "data": {
      "text/plain": [
       "0        True\n",
       "1        True\n",
       "2       False\n",
       "3        True\n",
       "4       False\n",
       "        ...  \n",
       "9995     True\n",
       "9996     True\n",
       "9997    False\n",
       "9998    False\n",
       "9999    False\n",
       "Length: 10000, dtype: bool"
      ]
     },
     "execution_count": 86,
     "metadata": {},
     "output_type": "execute_result"
    }
   ],
   "source": [
    "df.nunique(axis=1) !=n_trials"
   ]
  },
  {
   "cell_type": "code",
   "execution_count": 88,
   "id": "64bee3df",
   "metadata": {},
   "outputs": [
    {
     "data": {
      "text/plain": [
       "0.4106"
      ]
     },
     "execution_count": 88,
     "metadata": {},
     "output_type": "execute_result"
    }
   ],
   "source": [
    "(df.nunique(axis=1) !=n_trials).mean()"
   ]
  },
  {
   "cell_type": "markdown",
   "id": "665c8e9b",
   "metadata": {},
   "source": [
    "## if it's 40 people?"
   ]
  },
  {
   "cell_type": "code",
   "execution_count": 89,
   "id": "24d88257",
   "metadata": {},
   "outputs": [],
   "source": [
    "n_trials=40"
   ]
  },
  {
   "cell_type": "code",
   "execution_count": 90,
   "id": "b34148f3",
   "metadata": {},
   "outputs": [
    {
     "data": {
      "text/plain": [
       "array([[249, 322, 167, ..., 209, 248,  84],\n",
       "       [281, 259, 333, ..., 116, 163, 295],\n",
       "       [108, 238, 120, ...,  75, 360, 259],\n",
       "       ...,\n",
       "       [ 98, 211,  45, ..., 197, 198, 152],\n",
       "       [262, 117,  83, ...,   9,  84, 245],\n",
       "       [237, 103, 152, ...,  88,  24,  13]])"
      ]
     },
     "execution_count": 90,
     "metadata": {},
     "output_type": "execute_result"
    }
   ],
   "source": [
    "data=np.random.choice(days,(n_simulations,n_trials))\n",
    "data"
   ]
  },
  {
   "cell_type": "code",
   "execution_count": 91,
   "id": "6374daba",
   "metadata": {},
   "outputs": [
    {
     "data": {
      "text/html": [
       "<div>\n",
       "<style scoped>\n",
       "    .dataframe tbody tr th:only-of-type {\n",
       "        vertical-align: middle;\n",
       "    }\n",
       "\n",
       "    .dataframe tbody tr th {\n",
       "        vertical-align: top;\n",
       "    }\n",
       "\n",
       "    .dataframe thead th {\n",
       "        text-align: right;\n",
       "    }\n",
       "</style>\n",
       "<table border=\"1\" class=\"dataframe\">\n",
       "  <thead>\n",
       "    <tr style=\"text-align: right;\">\n",
       "      <th></th>\n",
       "      <th>0</th>\n",
       "      <th>1</th>\n",
       "      <th>2</th>\n",
       "      <th>3</th>\n",
       "      <th>4</th>\n",
       "      <th>5</th>\n",
       "      <th>6</th>\n",
       "      <th>7</th>\n",
       "      <th>8</th>\n",
       "      <th>9</th>\n",
       "      <th>...</th>\n",
       "      <th>30</th>\n",
       "      <th>31</th>\n",
       "      <th>32</th>\n",
       "      <th>33</th>\n",
       "      <th>34</th>\n",
       "      <th>35</th>\n",
       "      <th>36</th>\n",
       "      <th>37</th>\n",
       "      <th>38</th>\n",
       "      <th>39</th>\n",
       "    </tr>\n",
       "  </thead>\n",
       "  <tbody>\n",
       "    <tr>\n",
       "      <th>0</th>\n",
       "      <td>249</td>\n",
       "      <td>322</td>\n",
       "      <td>167</td>\n",
       "      <td>241</td>\n",
       "      <td>202</td>\n",
       "      <td>335</td>\n",
       "      <td>197</td>\n",
       "      <td>352</td>\n",
       "      <td>50</td>\n",
       "      <td>212</td>\n",
       "      <td>...</td>\n",
       "      <td>16</td>\n",
       "      <td>269</td>\n",
       "      <td>185</td>\n",
       "      <td>109</td>\n",
       "      <td>186</td>\n",
       "      <td>293</td>\n",
       "      <td>121</td>\n",
       "      <td>209</td>\n",
       "      <td>248</td>\n",
       "      <td>84</td>\n",
       "    </tr>\n",
       "    <tr>\n",
       "      <th>1</th>\n",
       "      <td>281</td>\n",
       "      <td>259</td>\n",
       "      <td>333</td>\n",
       "      <td>124</td>\n",
       "      <td>120</td>\n",
       "      <td>179</td>\n",
       "      <td>351</td>\n",
       "      <td>289</td>\n",
       "      <td>8</td>\n",
       "      <td>22</td>\n",
       "      <td>...</td>\n",
       "      <td>214</td>\n",
       "      <td>319</td>\n",
       "      <td>177</td>\n",
       "      <td>341</td>\n",
       "      <td>225</td>\n",
       "      <td>227</td>\n",
       "      <td>315</td>\n",
       "      <td>116</td>\n",
       "      <td>163</td>\n",
       "      <td>295</td>\n",
       "    </tr>\n",
       "    <tr>\n",
       "      <th>2</th>\n",
       "      <td>108</td>\n",
       "      <td>238</td>\n",
       "      <td>120</td>\n",
       "      <td>37</td>\n",
       "      <td>130</td>\n",
       "      <td>334</td>\n",
       "      <td>289</td>\n",
       "      <td>300</td>\n",
       "      <td>349</td>\n",
       "      <td>237</td>\n",
       "      <td>...</td>\n",
       "      <td>57</td>\n",
       "      <td>234</td>\n",
       "      <td>151</td>\n",
       "      <td>37</td>\n",
       "      <td>240</td>\n",
       "      <td>85</td>\n",
       "      <td>193</td>\n",
       "      <td>75</td>\n",
       "      <td>360</td>\n",
       "      <td>259</td>\n",
       "    </tr>\n",
       "    <tr>\n",
       "      <th>3</th>\n",
       "      <td>24</td>\n",
       "      <td>293</td>\n",
       "      <td>339</td>\n",
       "      <td>182</td>\n",
       "      <td>51</td>\n",
       "      <td>5</td>\n",
       "      <td>328</td>\n",
       "      <td>93</td>\n",
       "      <td>67</td>\n",
       "      <td>197</td>\n",
       "      <td>...</td>\n",
       "      <td>69</td>\n",
       "      <td>231</td>\n",
       "      <td>220</td>\n",
       "      <td>300</td>\n",
       "      <td>29</td>\n",
       "      <td>128</td>\n",
       "      <td>311</td>\n",
       "      <td>223</td>\n",
       "      <td>32</td>\n",
       "      <td>7</td>\n",
       "    </tr>\n",
       "    <tr>\n",
       "      <th>4</th>\n",
       "      <td>114</td>\n",
       "      <td>268</td>\n",
       "      <td>194</td>\n",
       "      <td>175</td>\n",
       "      <td>273</td>\n",
       "      <td>344</td>\n",
       "      <td>108</td>\n",
       "      <td>239</td>\n",
       "      <td>16</td>\n",
       "      <td>348</td>\n",
       "      <td>...</td>\n",
       "      <td>181</td>\n",
       "      <td>239</td>\n",
       "      <td>251</td>\n",
       "      <td>356</td>\n",
       "      <td>4</td>\n",
       "      <td>185</td>\n",
       "      <td>245</td>\n",
       "      <td>5</td>\n",
       "      <td>314</td>\n",
       "      <td>160</td>\n",
       "    </tr>\n",
       "  </tbody>\n",
       "</table>\n",
       "<p>5 rows × 40 columns</p>\n",
       "</div>"
      ],
      "text/plain": [
       "    0    1    2    3    4    5    6    7    8    9   ...   30   31   32   33  \\\n",
       "0  249  322  167  241  202  335  197  352   50  212  ...   16  269  185  109   \n",
       "1  281  259  333  124  120  179  351  289    8   22  ...  214  319  177  341   \n",
       "2  108  238  120   37  130  334  289  300  349  237  ...   57  234  151   37   \n",
       "3   24  293  339  182   51    5  328   93   67  197  ...   69  231  220  300   \n",
       "4  114  268  194  175  273  344  108  239   16  348  ...  181  239  251  356   \n",
       "\n",
       "    34   35   36   37   38   39  \n",
       "0  186  293  121  209  248   84  \n",
       "1  225  227  315  116  163  295  \n",
       "2  240   85  193   75  360  259  \n",
       "3   29  128  311  223   32    7  \n",
       "4    4  185  245    5  314  160  \n",
       "\n",
       "[5 rows x 40 columns]"
      ]
     },
     "execution_count": 91,
     "metadata": {},
     "output_type": "execute_result"
    }
   ],
   "source": [
    "df = pd.DataFrame(data)\n",
    "df.head()"
   ]
  },
  {
   "cell_type": "code",
   "execution_count": 93,
   "id": "617c9f68",
   "metadata": {},
   "outputs": [
    {
     "data": {
      "text/plain": [
       "0       39\n",
       "1       37\n",
       "2       36\n",
       "3       40\n",
       "4       37\n",
       "        ..\n",
       "9995    39\n",
       "9996    39\n",
       "9997    39\n",
       "9998    37\n",
       "9999    36\n",
       "Length: 10000, dtype: int64"
      ]
     },
     "execution_count": 93,
     "metadata": {},
     "output_type": "execute_result"
    }
   ],
   "source": [
    "df.nunique(axis=1) "
   ]
  },
  {
   "cell_type": "code",
   "execution_count": 94,
   "id": "3c17d3eb",
   "metadata": {},
   "outputs": [
    {
     "data": {
      "text/plain": [
       "0        True\n",
       "1        True\n",
       "2        True\n",
       "3       False\n",
       "4        True\n",
       "        ...  \n",
       "9995     True\n",
       "9996     True\n",
       "9997     True\n",
       "9998     True\n",
       "9999     True\n",
       "Length: 10000, dtype: bool"
      ]
     },
     "execution_count": 94,
     "metadata": {},
     "output_type": "execute_result"
    }
   ],
   "source": [
    "df.nunique(axis=1) != 40"
   ]
  },
  {
   "cell_type": "code",
   "execution_count": 95,
   "id": "0ac204e1",
   "metadata": {},
   "outputs": [
    {
     "data": {
      "text/plain": [
       "0.8911"
      ]
     },
     "execution_count": 95,
     "metadata": {},
     "output_type": "execute_result"
    }
   ],
   "source": [
    "(df.nunique(axis=1) != 40).mean()"
   ]
  },
  {
   "cell_type": "code",
   "execution_count": null,
   "id": "3b4ee4cb",
   "metadata": {},
   "outputs": [],
   "source": []
  },
  {
   "cell_type": "code",
   "execution_count": null,
   "id": "7d46cadc",
   "metadata": {},
   "outputs": [],
   "source": []
  },
  {
   "cell_type": "code",
   "execution_count": null,
   "id": "f3282b65",
   "metadata": {},
   "outputs": [],
   "source": []
  }
 ],
 "metadata": {
  "kernelspec": {
   "display_name": "Python 3 (ipykernel)",
   "language": "python",
   "name": "python3"
  },
  "language_info": {
   "codemirror_mode": {
    "name": "ipython",
    "version": 3
   },
   "file_extension": ".py",
   "mimetype": "text/x-python",
   "name": "python",
   "nbconvert_exporter": "python",
   "pygments_lexer": "ipython3",
   "version": "3.11.5"
  }
 },
 "nbformat": 4,
 "nbformat_minor": 5
}
