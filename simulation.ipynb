{
 "cells": [
  {
   "cell_type": "code",
   "execution_count": 1,
   "id": "ca0f8215",
   "metadata": {},
   "outputs": [],
   "source": [
    "# pyplot for plotting\n",
    "import matplotlib.pyplot as plt\n",
    "# numpy for vectorized array operations\n",
    "import numpy as np\n",
    "# pandas for proper tabular manipulation\n",
    "import pandas as pd\n",
    "# scipy stats for our subversions\n",
    "from scipy import stats"
   ]
  },
  {
   "cell_type": "markdown",
   "id": "3e8dd52b",
   "metadata": {},
   "source": [
    "## Q1) How likely is it that you roll doubles when rolling two dice?\n",
    "\n"
   ]
  },
  {
   "cell_type": "code",
   "execution_count": 2,
   "id": "817ae536",
   "metadata": {},
   "outputs": [
    {
     "data": {
      "text/plain": [
       "array([[4, 4],\n",
       "       [6, 2],\n",
       "       [3, 3],\n",
       "       ...,\n",
       "       [5, 3],\n",
       "       [4, 2],\n",
       "       [2, 1]])"
      ]
     },
     "execution_count": 2,
     "metadata": {},
     "output_type": "execute_result"
    }
   ],
   "source": [
    "n_trials = nrows = 10_000\n",
    "n_dice = ncols = 2\n",
    "\n",
    "rolls = np.random.choice([1, 2, 3, 4, 5, 6], n_trials * n_dice).reshape(nrows, ncols)\n",
    "rolls\n"
   ]
  },
  {
   "cell_type": "markdown",
   "id": "c561905c",
   "metadata": {},
   "source": [
    "## Q2) If you flip 8 coins, what is the probability of getting exactly 3 heads? What is the probability of getting more than 3 heads?\n",
    "\n"
   ]
  },
  {
   "cell_type": "markdown",
   "id": "89039893",
   "metadata": {},
   "source": [
    "by theoretically,\n",
    "### Combination Formula:\n",
    "    -The total number of outcomes is 2^8 because each coin can either be heads or tails, and there are 8 coins.\n",
    "\n",
    "    -The number of ways to get exactly 3 heads is given by \n",
    "     C(8,3), which is the number of combinations of 8 items taken 3 at a time.\n",
    "\n",
    "    -The probability is then C(8,3).\n",
    "    \n",
    "### For more than 3 heads:\n",
    "    -You'd sum up the probabilities of getting 4, 5, 6, 7, and 8 heads.\n",
    "\n",
    "    -For each case, use the combination formula to find the number of ways to get that specific number of heads.\n",
    "\n",
    "    -The probability is then the sum of these individual probabilities.\n",
    "\n",
    "Here are the steps:\n",
    "\n",
    "### Exactly 3 heads:\n",
    "    - C(8,3)=8!/(3!(8−3)!=8×7×6/3×2×1=56\n",
    "\n",
    " \n",
    "    - Probability = 56/256 =7/32\n",
    "\n",
    " \n",
    "### More than 3 heads:\n",
    "\n",
    "    - P(X>3)=P(X=4)+P(X=5)+P(X=6)+P(X=7)+P(X=8)\n",
    "            =1/2^8[c(8,4)+c(8,5)+c(8,6)+c(8,7)+c(8,8)]\n",
    "\n",
    "\n",
    "\n",
    "This provides an empirical estimation based on counting the outcomes that meet the specified conditions. Keep in mind that this is an approximation and becomes more accurate with a larger number of trials or simulations."
   ]
  },
  {
   "cell_type": "code",
   "execution_count": 3,
   "id": "47db35a5",
   "metadata": {},
   "outputs": [
    {
     "name": "stdout",
     "output_type": "stream",
     "text": [
      "Probability of exactly 3 heads: 0.21938\n",
      "Probability of more than 3 heads: 0.63687\n"
     ]
    }
   ],
   "source": [
    "# experimental simulation\n",
    "\n",
    "import random\n",
    "\n",
    "def simulate_coin_flips(num_flips, num_simulations):\n",
    "    count_3_heads = 0\n",
    "    count_more_than_3_heads = 0\n",
    "\n",
    "    for _ in range(num_simulations):\n",
    "        # Simulate flipping 8 coins\n",
    "        flips = [random.choice([1, 0]) for _ in range(num_flips)]  # 1 for heads, 0 for tails\n",
    "\n",
    "        # Count the number of heads\n",
    "        num_heads = sum(flips)\n",
    "\n",
    "        # Check if exactly 3 heads\n",
    "        if num_heads == 3:\n",
    "            count_3_heads += 1\n",
    "\n",
    "        # Check if more than 3 heads\n",
    "        if num_heads > 3:\n",
    "            count_more_than_3_heads += 1\n",
    "\n",
    "    # Calculate probabilities\n",
    "    prob_3_heads = count_3_heads / num_simulations\n",
    "    prob_more_than_3_heads = count_more_than_3_heads / num_simulations\n",
    "\n",
    "    return prob_3_heads, prob_more_than_3_heads\n",
    "\n",
    "# Number of coin flips\n",
    "num_flips = 8\n",
    "\n",
    "# Number of simulations\n",
    "num_simulations = 100000\n",
    "\n",
    "# Run simulation\n",
    "prob_3_heads, prob_more_than_3_heads = simulate_coin_flips(num_flips, num_simulations)\n",
    "\n",
    "# Print results\n",
    "print(f\"Probability of exactly 3 heads: {prob_3_heads}\")\n",
    "print(f\"Probability of more than 3 heads: {prob_more_than_3_heads}\")\n"
   ]
  },
  {
   "cell_type": "markdown",
   "id": "c1ceea29",
   "metadata": {},
   "source": [
    "## Q3) There are approximitely 3 web development cohorts for every 1 data science cohort at Codeup. Assuming that Codeup randomly selects an alumni to put on a billboard, what are the odds that the two billboards I drive past both have data science students on them?"
   ]
  },
  {
   "cell_type": "markdown",
   "id": "0b2f3ccb",
   "metadata": {},
   "source": [
    "# Theoretically, \n",
    "If there are approximately 3 web development cohorts for every 1 data science cohort, and Codeup randomly selects an alumni to put on a billboard, the probability of seeing a data science student on one billboard can be represented as \n",
    "\n",
    "P(Data Science)=1/4, and the probability of seeing a web development student on one billboard is \n",
    "\n",
    "P(Web Development)=3/4.\n",
    "\n",
    "Since these events are independent (assuming one billboard doesn't affect the other), you can multiply the probabilities to find the probability of both events happening (seeing data science students on both billboards):\n",
    "\n",
    "P(Data Science on both)=P(Data Science)×P(Data Science)\n",
    "\n",
    "P(Data Science on both)=1/4 × 1/4=1/16\n",
    "\n",
    "So, the odds that the two billboards you drive past both have data science students on them are 1/16."
   ]
  },
  {
   "cell_type": "code",
   "execution_count": 4,
   "id": "f42c288f",
   "metadata": {},
   "outputs": [
    {
     "name": "stdout",
     "output_type": "stream",
     "text": [
      "Empirical Probability of both billboards featuring Data Science students: 0.06191\n"
     ]
    }
   ],
   "source": [
    "import random\n",
    "\n",
    "def simulate_billboard_selection(num_simulations):\n",
    "    count_both_data_science = 0\n",
    "\n",
    "    for _ in range(num_simulations):\n",
    "        # Simulate selecting alumni for two billboards\n",
    "        billboard1 = random.choice(['Web Dev', 'Web Dev', 'Web Dev', 'Data Science'])\n",
    "        billboard2 = random.choice(['Web Dev', 'Web Dev', 'Web Dev', 'Data Science'])\n",
    "\n",
    "        # Check if both billboards feature data science students\n",
    "        if billboard1 == 'Data Science' and billboard2 == 'Data Science':\n",
    "            count_both_data_science += 1\n",
    "\n",
    "    # Calculate probability\n",
    "    prob_both_data_science = count_both_data_science / num_simulations\n",
    "\n",
    "    return prob_both_data_science\n",
    "\n",
    "# Number of simulations\n",
    "num_simulations = 100000\n",
    "\n",
    "# Run simulation\n",
    "prob_both_data_science = simulate_billboard_selection(num_simulations)\n",
    "\n",
    "# Print result\n",
    "print(f\"Empirical Probability of both billboards featuring Data Science students: {prob_both_data_science}\")\n"
   ]
  },
  {
   "cell_type": "markdown",
   "id": "6f9c9125",
   "metadata": {},
   "source": [
    "## Q4) Codeup students buy, on average, 3 poptart packages with a standard deviation of 1.5 a day from the snack vending machine. If on monday the machine is restocked with 17 poptart packages, how likely is it that I will be able to buy some poptarts on Friday afternoon?\n",
    "\n",
    "(Remember, if you have mean and standard deviation, use the np.random.normal) You'll need to make a judgement call on how to handle some of your values"
   ]
  },
  {
   "cell_type": "code",
   "execution_count": 5,
   "id": "98f03520",
   "metadata": {},
   "outputs": [
    {
     "name": "stdout",
     "output_type": "stream",
     "text": [
      "The likelihood of being able to buy poptarts on Friday afternoon is approximately: 0.00%\n"
     ]
    }
   ],
   "source": [
    "\n",
    "\n",
    "# Parameters\n",
    "mean_poptarts_per_day = 3\n",
    "std_dev_poptarts_per_day = 1.5\n",
    "days_until_friday = 4  # Monday to thursday\n",
    "\n",
    "# Simulate the number of poptarts bought each day\n",
    "poptarts_bought_each_day = np.random.normal(mean_poptarts_per_day, std_dev_poptarts_per_day, days_until_friday)\n",
    "\n",
    "# Calculate the total poptarts remaining after each day\n",
    "poptarts_remaining = 17 - np.cumsum(poptarts_bought_each_day)\n",
    "\n",
    "# Check if there are poptarts left on Friday afternoon\n",
    "poptarts_available_on_friday = poptarts_remaining[-1] > 0\n",
    "\n",
    "# Calculate the likelihood\n",
    "likelihood = np.mean(poptarts_available_on_friday) * 100\n",
    "\n",
    "# Print the results\n",
    "print(f\"The likelihood of being able to buy poptarts on Friday afternoon is approximately: {likelihood:.2f}%\")\n"
   ]
  },
  {
   "cell_type": "markdown",
   "id": "4fe0a4d8",
   "metadata": {},
   "source": [
    "## Q5) Compare Heights\n",
    "\n",
    "- Men have an average height of 178 cm and standard deviation of 8cm.\n",
    "\n",
    "- Women have a mean of 170, sd = 6cm.\n",
    "\n",
    "- Since you have means and standard deviations, you can use np.random.normal to generate observations.\n",
    "\n",
    "- If a man and woman are chosen at random, what is the likelihood the woman is taller than the man?"
   ]
  },
  {
   "cell_type": "code",
   "execution_count": 6,
   "id": "02c8ed8d",
   "metadata": {},
   "outputs": [
    {
     "name": "stdout",
     "output_type": "stream",
     "text": [
      "The likelihood that a randomly chosen woman is taller than a randomly chosen man is approximately: 21.31%\n"
     ]
    }
   ],
   "source": [
    "# Set up parameters\n",
    "mean_height_men = 178\n",
    "std_dev_men = 8\n",
    "\n",
    "mean_height_women = 170\n",
    "std_dev_women = 6\n",
    "\n",
    "# Number of simulations\n",
    "num_simulations = 100000\n",
    "\n",
    "# Generate random heights for men and women\n",
    "heights_men = np.random.normal(mean_height_men, std_dev_men, num_simulations)\n",
    "heights_women = np.random.normal(mean_height_women, std_dev_women, num_simulations)\n",
    "\n",
    "# Calculate the likelihood that a woman is taller than a man\n",
    "likelihood_taller_woman = np.mean(heights_women > heights_men) * 100\n",
    "\n",
    "# Print the result\n",
    "print(f\"The likelihood that a randomly chosen woman is taller than a randomly chosen man is approximately: {likelihood_taller_woman:.2f}%\")\n"
   ]
  },
  {
   "cell_type": "markdown",
   "id": "da33cd36",
   "metadata": {},
   "source": [
    "## Q6) When installing anaconda on a student's computer, there's a 1 in 250 chance that the download is corrupted and the installation fails. \n",
    "\n",
    "What are the odds that after having 50 students download anaconda, no one has an installation issue? 100 students?\n",
    "\n",
    "What is the probability that we observe an installation issue within the first 150 students that download anaconda?\n",
    "\n",
    "How likely is it that 450 students all download anaconda without an issue?"
   ]
  },
  {
   "cell_type": "code",
   "execution_count": 7,
   "id": "1cb6fa2e",
   "metadata": {},
   "outputs": [
    {
     "name": "stdout",
     "output_type": "stream",
     "text": [
      "Simulated probability of no installation issue for 50 students: 1.000000\n"
     ]
    }
   ],
   "source": [
    "# no installation issue for 50 students\n",
    "\n",
    "\n",
    "# Number of students\n",
    "num_students = 50\n",
    "\n",
    "# Probability of success (no installation issue)\n",
    "p_success = 1 - 1/250\n",
    "\n",
    "# Simulate 50 students and count the number of successes (no installation issues)\n",
    "simulations = np.random.binomial(n=1, p=p_success, size=num_students)\n",
    "num_no_issue_50_students = np.sum(simulations == 1)\n",
    "\n",
    "# Calculate the probability from the simulation\n",
    "prob_no_issue_50_students_sim = num_no_issue_50_students / num_students\n",
    "\n",
    "print(f\"Simulated probability of no installation issue for 50 students: {prob_no_issue_50_students_sim:.6f}\")\n"
   ]
  },
  {
   "cell_type": "code",
   "execution_count": 8,
   "id": "0c02d966",
   "metadata": {},
   "outputs": [
    {
     "name": "stdout",
     "output_type": "stream",
     "text": [
      "Simulated probability of no installation issue for 100 students: 0.990000\n"
     ]
    }
   ],
   "source": [
    "# no installation issue for 100 students\n",
    "\n",
    "# Number of students\n",
    "num_students = 100\n",
    "\n",
    "# Simulate 100 students and count the number of successes (no installation issues)\n",
    "simulations = np.random.binomial(n=1, p=p_success, size=num_students)\n",
    "num_no_issue_100_students = np.sum(simulations == 1)\n",
    "\n",
    "# Calculate the probability from the simulation\n",
    "prob_no_issue_100_students_sim = num_no_issue_100_students / num_students\n",
    "\n",
    "print(f\"Simulated probability of no installation issue for 100 students: {prob_no_issue_100_students_sim:.6f}\")\n"
   ]
  },
  {
   "cell_type": "code",
   "execution_count": 9,
   "id": "31ea8a4c",
   "metadata": {},
   "outputs": [
    {
     "name": "stdout",
     "output_type": "stream",
     "text": [
      "Simulated probability of at least one installation issue within the first 150 students: True\n"
     ]
    }
   ],
   "source": [
    "# no installation issue for 150\n",
    "# Number of students\n",
    "num_students = 150\n",
    "\n",
    "# Simulate 150 students and check if there is at least one success (no installation issue)\n",
    "simulations = np.random.binomial(n=1, p=p_success, size=num_students)\n",
    "issue_within_150_students_sim = np.any(simulations == 1)\n",
    "\n",
    "print(f\"Simulated probability of at least one installation issue within the first 150 students: {issue_within_150_students_sim}\")\n"
   ]
  },
  {
   "cell_type": "code",
   "execution_count": 10,
   "id": "8a6c71c6",
   "metadata": {},
   "outputs": [
    {
     "name": "stdout",
     "output_type": "stream",
     "text": [
      "Simulated probability of no installation issue for 450 students: 0.997778\n"
     ]
    }
   ],
   "source": [
    "# no installation issue for 450\n",
    "# Number of students\n",
    "num_students = 450\n",
    "\n",
    "# Simulate 450 students and count the number of successes (no installation issues)\n",
    "simulations = np.random.binomial(n=1, p=p_success, size=num_students)\n",
    "num_no_issue_450_students = np.sum(simulations == 1)\n",
    "\n",
    "# Calculate the probability from the simulation\n",
    "prob_no_issue_450_students_sim = num_no_issue_450_students / num_students\n",
    "\n",
    "print(f\"Simulated probability of no installation issue for 450 students: {prob_no_issue_450_students_sim:.6f}\")\n"
   ]
  },
  {
   "cell_type": "markdown",
   "id": "8bd35e84",
   "metadata": {},
   "source": [
    "## Q7) There's a 70% chance on any given day that there will be at least one food truck at Travis Park. \n",
    "\n",
    "However, you haven't seen a food truck there in 3 days. How unlikely is this?\n",
    "\n",
    "How likely is it that a food truck will show up sometime this week?\n",
    "\n"
   ]
  },
  {
   "cell_type": "code",
   "execution_count": 11,
   "id": "61f581bc",
   "metadata": {},
   "outputs": [
    {
     "name": "stdout",
     "output_type": "stream",
     "text": [
      "Simulated probability of not seeing a food truck for 3 consecutive days: 0.026780\n",
      "Simulated probability of seeing a food truck at least once during the week: 0.999800\n"
     ]
    }
   ],
   "source": [
    "# Parameters\n",
    "probability_food_truck_daily = 0.7\n",
    "days_without_food_truck = 3\n",
    "num_simulations = 100000\n",
    "\n",
    "# Simulate the presence of a food truck for each day\n",
    "simulations = np.random.rand(num_simulations, 7) < probability_food_truck_daily\n",
    "\n",
    "# Calculate the probability of not seeing a food truck for 3 consecutive days\n",
    "no_food_truck_3_days_sim = np.sum(np.all(simulations[:, :3] == 0, axis=1)) / num_simulations\n",
    "\n",
    "# Calculate the probability of seeing a food truck at least once during the week\n",
    "food_truck_this_week_sim = np.sum(np.any(simulations, axis=1)) / num_simulations\n",
    "\n",
    "print(f\"Simulated probability of not seeing a food truck for 3 consecutive days: {no_food_truck_3_days_sim:.6f}\")\n",
    "print(f\"Simulated probability of seeing a food truck at least once during the week: {food_truck_this_week_sim:.6f}\")\n"
   ]
  },
  {
   "cell_type": "markdown",
   "id": "55b3f356",
   "metadata": {},
   "source": [
    "## Q8) If 23 people are in the same room, \n",
    "\n",
    "what are the odds that two of them share a birthday? \n",
    "\n",
    "What if it's 20 people? 40?\n",
    "\n"
   ]
  },
  {
   "cell_type": "code",
   "execution_count": 12,
   "id": "0ca34687",
   "metadata": {},
   "outputs": [],
   "source": [
    "def birthday_probability(num_people):\n",
    "    p_no_shared_birthday = 1.0\n",
    "    for i in range(num_people):\n",
    "        p_no_shared_birthday *= (365 - i) / 365\n",
    "    p_shared_birthday = 1 - p_no_shared_birthday\n",
    "    return p_shared_birthday\n",
    "\n"
   ]
  },
  {
   "cell_type": "code",
   "execution_count": 16,
   "id": "d594d616",
   "metadata": {},
   "outputs": [
    {
     "name": "stdout",
     "output_type": "stream",
     "text": [
      "Probability of at least two people sharing a birthday (23 people): 0.5073\n"
     ]
    }
   ],
   "source": [
    "# Calculate the probability for 23 people\n",
    "prob_23_people = birthday_probability(23)\n",
    "print(f\"Probability of at least two people sharing a birthday (23 people): {prob_23_people:.4f}\")\n"
   ]
  },
  {
   "cell_type": "code",
   "execution_count": 17,
   "id": "2e924357",
   "metadata": {},
   "outputs": [
    {
     "name": "stdout",
     "output_type": "stream",
     "text": [
      "Probability of at least two people sharing a birthday (20 people): 0.4114\n"
     ]
    }
   ],
   "source": [
    "# Calculate the probability for 20 people\n",
    "prob_20_people = birthday_probability(20)\n",
    "print(f\"Probability of at least two people sharing a birthday (20 people): {prob_20_people:.4f}\")\n"
   ]
  },
  {
   "cell_type": "code",
   "execution_count": 18,
   "id": "737e259c",
   "metadata": {},
   "outputs": [
    {
     "name": "stdout",
     "output_type": "stream",
     "text": [
      "Probability of at least two people sharing a birthday (40 people): 0.4114\n"
     ]
    }
   ],
   "source": [
    "# Calculate the probability for 40 people\n",
    "prob_40_people = birthday_probability(20)\n",
    "print(f\"Probability of at least two people sharing a birthday (40 people): {prob_40_people:.4f}\")\n"
   ]
  },
  {
   "cell_type": "code",
   "execution_count": null,
   "id": "6502f2ab",
   "metadata": {},
   "outputs": [],
   "source": []
  },
  {
   "cell_type": "code",
   "execution_count": null,
   "id": "fd9cad6f",
   "metadata": {},
   "outputs": [],
   "source": []
  },
  {
   "cell_type": "code",
   "execution_count": null,
   "id": "4ba8eafa",
   "metadata": {},
   "outputs": [],
   "source": []
  }
 ],
 "metadata": {
  "kernelspec": {
   "display_name": "Python 3 (ipykernel)",
   "language": "python",
   "name": "python3"
  },
  "language_info": {
   "codemirror_mode": {
    "name": "ipython",
    "version": 3
   },
   "file_extension": ".py",
   "mimetype": "text/x-python",
   "name": "python",
   "nbconvert_exporter": "python",
   "pygments_lexer": "ipython3",
   "version": "3.11.5"
  }
 },
 "nbformat": 4,
 "nbformat_minor": 5
}
