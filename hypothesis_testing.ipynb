{
 "cells": [
  {
   "cell_type": "markdown",
   "id": "9f23c944",
   "metadata": {},
   "source": [
    "For each of the following questions, formulate a null and alternative hypothesis (be as specific as you can be), then give an example of what a true positive, true negative, type I and type II errors would look like. Note that some of the questions are intentionally phrased in a vague way. It is your job to reword these as more precise questions that could be tested.\n",
    "\n",
    "\n",
    "Has the network latency gone up since we switched internet service providers?\n",
    "\n",
    "\n",
    "Is the website redesign any good?\n",
    "\n",
    "\n",
    "Is our television ad driving more sales?"
   ]
  },
  {
   "cell_type": "markdown",
   "id": "00a6cc10",
   "metadata": {},
   "source": [
    "## Q1) Has the network latency gone up since we switched internet service providers?\n"
   ]
  },
  {
   "cell_type": "code",
   "execution_count": 2,
   "id": "d510d29d",
   "metadata": {},
   "outputs": [],
   "source": [
    "# H0: There is no network latency gone up eventhough we switched to internet service providers.\n",
    "# Ha: There is network latency gone up since we switched internet service providers."
   ]
  },
  {
   "cell_type": "code",
   "execution_count": 3,
   "id": "78b3e8d6",
   "metadata": {},
   "outputs": [],
   "source": [
    "# True Negative: accept H0 if H0 is true\n",
    "# True Positive: reject H0 if H0 is false\n",
    "# type I error: reject H0 if H0 is true\n",
    "#   (false positive)\n",
    "\n",
    "# type II error: accept H0 if H0 is false\n",
    "#  (false negative)"
   ]
  },
  {
   "cell_type": "markdown",
   "id": "4d319a1e",
   "metadata": {},
   "source": [
    "## Q2) Is the website redesign any good?\n"
   ]
  },
  {
   "cell_type": "code",
   "execution_count": 4,
   "id": "a2c053a6",
   "metadata": {},
   "outputs": [],
   "source": [
    "# H0: The website redesign is not good.\n",
    "# Ha: The website redesign is good.\n"
   ]
  },
  {
   "cell_type": "code",
   "execution_count": 5,
   "id": "9f99f4a1",
   "metadata": {},
   "outputs": [],
   "source": [
    "# True Negative: accept H0 if H0 is true\n",
    "# True Positive: reject H0 if H0 is false\n",
    "# type I error: reject H0 if H0 is true\n",
    "#   (false positive)\n",
    "\n",
    "# type II error: accept H0 if H0 is false\n",
    "#  (false negative)"
   ]
  },
  {
   "cell_type": "markdown",
   "id": "81a6c482",
   "metadata": {},
   "source": [
    "## Q3) Is our television ad driving more sales?"
   ]
  },
  {
   "cell_type": "code",
   "execution_count": 6,
   "id": "d14821d8",
   "metadata": {},
   "outputs": [],
   "source": [
    "# H0: television ad does not drive more sales.\n",
    "# Ha: television ad drives more sales."
   ]
  },
  {
   "cell_type": "code",
   "execution_count": 7,
   "id": "c1c4c331",
   "metadata": {},
   "outputs": [],
   "source": [
    "# True Negative: accept H0 if H0 is true\n",
    "# True Positive: reject H0 if H0 is false\n",
    "# type I error: reject H0 if H0 is true\n",
    "#   (false positive)\n",
    "\n",
    "# type II error: accept H0 if H0 is false\n",
    "#  (false negative)"
   ]
  }
 ],
 "metadata": {
  "kernelspec": {
   "display_name": "Python 3 (ipykernel)",
   "language": "python",
   "name": "python3"
  },
  "language_info": {
   "codemirror_mode": {
    "name": "ipython",
    "version": 3
   },
   "file_extension": ".py",
   "mimetype": "text/x-python",
   "name": "python",
   "nbconvert_exporter": "python",
   "pygments_lexer": "ipython3",
   "version": "3.11.5"
  }
 },
 "nbformat": 4,
 "nbformat_minor": 5
}
